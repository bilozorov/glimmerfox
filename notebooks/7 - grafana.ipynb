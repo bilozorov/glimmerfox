{
 "cells": [
  {
   "cell_type": "markdown",
   "metadata": {},
   "source": [
    "# Experiment with automatization"
   ]
  },
  {
   "cell_type": "code",
   "execution_count": 21,
   "metadata": {},
   "outputs": [],
   "source": [
    "import os\n",
    "import json\n",
    "import requests\n",
    "from dotenv import load_dotenv"
   ]
  },
  {
   "cell_type": "code",
   "execution_count": 22,
   "metadata": {},
   "outputs": [],
   "source": [
    "is_localhost = True\n",
    "\n",
    "if is_localhost:\n",
    "    load_dotenv('../.env')\n",
    "else:\n",
    "    load_dotenv()"
   ]
  },
  {
   "cell_type": "code",
   "execution_count": 23,
   "metadata": {},
   "outputs": [],
   "source": [
    "GRAFANA_URL = \"http://localhost:3000\"\n",
    "\n",
    "GRAFANA_USER = os.getenv(\"GRAFANA_ADMIN_USER\")\n",
    "GRAFANA_PASSWORD = os.getenv(\"GRAFANA_ADMIN_PASSWORD\")\n",
    "\n",
    "PG_HOST = os.getenv(\"POSTGRES_HOST\")\n",
    "PG_DB = os.getenv(\"POSTGRES_DB\")\n",
    "PG_USER = os.getenv(\"POSTGRES_USER\")\n",
    "PG_PASSWORD = os.getenv(\"POSTGRES_PASSWORD\")\n",
    "PG_PORT = os.getenv(\"POSTGRES_PORT\")\n"
   ]
  },
  {
   "cell_type": "code",
   "execution_count": 24,
   "metadata": {},
   "outputs": [
    {
     "data": {
      "text/plain": [
       "'glimmerfox_db'"
      ]
     },
     "execution_count": 24,
     "metadata": {},
     "output_type": "execute_result"
    }
   ],
   "source": [
    "PG_DB"
   ]
  },
  {
   "cell_type": "code",
   "execution_count": 26,
   "metadata": {},
   "outputs": [],
   "source": [
    "def create_api_key():\n",
    "    auth = (GRAFANA_USER, GRAFANA_PASSWORD)\n",
    "    headers = {\"Content-Type\": \"application/json\"}\n",
    "    payload = {\n",
    "        \"name\": \"ProgrammaticKey\",\n",
    "        \"role\": \"Admin\",\n",
    "    }\n",
    "    response = requests.post(\n",
    "        f\"{GRAFANA_URL}/api/auth/keys\", auth=auth, headers=headers, json=payload\n",
    "    )\n",
    "\n",
    "    if response.status_code == 200:\n",
    "        print(\"API key created successfully\")\n",
    "        return response.json()[\"key\"]\n",
    "\n",
    "    elif response.status_code == 409:  # Conflict, key already exists\n",
    "        print(\"API key already exists, updating...\")\n",
    "        # Find the existing key\n",
    "        keys_response = requests.get(f\"{GRAFANA_URL}/api/auth/keys\", auth=auth)\n",
    "        if keys_response.status_code == 200:\n",
    "            for key in keys_response.json():\n",
    "                if key[\"name\"] == \"ProgrammaticKey\":\n",
    "                    # Delete the existing key\n",
    "                    delete_response = requests.delete(\n",
    "                        f\"{GRAFANA_URL}/api/auth/keys/{key['id']}\", auth=auth\n",
    "                    )\n",
    "                    if delete_response.status_code == 200:\n",
    "                        print(\"Existing key deleted\")\n",
    "                        # Create a new key\n",
    "                        return create_api_key()\n",
    "        print(\"Failed to update API key\")\n",
    "        return None\n",
    "    else:\n",
    "        print(f\"Failed to create API key: {response.text}\")\n",
    "        return None\n"
   ]
  },
  {
   "cell_type": "code",
   "execution_count": 27,
   "metadata": {},
   "outputs": [],
   "source": [
    "def create_or_update_datasource(api_key):\n",
    "    headers = {\n",
    "        \"Authorization\": f\"Bearer {api_key}\",\n",
    "        \"Content-Type\": \"application/json\",\n",
    "    }\n",
    "    datasource_payload = {\n",
    "        \"name\": \"PostgreSQL\",\n",
    "        \"type\": \"postgres\",\n",
    "        \"url\": f\"{PG_HOST}:{PG_PORT}\",\n",
    "        \"access\": \"proxy\",\n",
    "        \"user\": PG_USER,\n",
    "        \"database\": PG_DB,\n",
    "        \"basicAuth\": False,\n",
    "        \"isDefault\": True,\n",
    "        \"jsonData\": {\"sslmode\": \"disable\", \"postgresVersion\": 1300},\n",
    "        \"secureJsonData\": {\"password\": PG_PASSWORD},\n",
    "    }\n",
    "\n",
    "    print(\"Datasource payload:\")\n",
    "    print(json.dumps(datasource_payload, indent=2))\n",
    "\n",
    "    # First, try to get the existing datasource\n",
    "    response = requests.get(\n",
    "        f\"{GRAFANA_URL}/api/datasources/name/{datasource_payload['name']}\",\n",
    "        headers=headers,\n",
    "    )\n",
    "\n",
    "    if response.status_code == 200:\n",
    "        # Datasource exists, let's update it\n",
    "        existing_datasource = response.json()\n",
    "        datasource_id = existing_datasource[\"id\"]\n",
    "        print(f\"Updating existing datasource with id: {datasource_id}\")\n",
    "        response = requests.put(\n",
    "            f\"{GRAFANA_URL}/api/datasources/{datasource_id}\",\n",
    "            headers=headers,\n",
    "            json=datasource_payload,\n",
    "        )\n",
    "    else:\n",
    "        # Datasource doesn't exist, create a new one\n",
    "        print(\"Creating new datasource\")\n",
    "        response = requests.post(\n",
    "            f\"{GRAFANA_URL}/api/datasources\", headers=headers, json=datasource_payload\n",
    "        )\n",
    "\n",
    "    print(f\"Response status code: {response.status_code}\")\n",
    "    print(f\"Response headers: {response.headers}\")\n",
    "    print(f\"Response content: {response.text}\")\n",
    "\n",
    "    if response.status_code in [200, 201]:\n",
    "        print(\"Datasource created or updated successfully\")\n",
    "        return response.json().get(\"datasource\", {}).get(\"uid\") or response.json().get(\n",
    "            \"uid\"\n",
    "        )\n",
    "    else:\n",
    "        print(f\"Failed to create or update datasource: {response.text}\")\n",
    "        return None"
   ]
  },
  {
   "cell_type": "code",
   "execution_count": 28,
   "metadata": {},
   "outputs": [],
   "source": [
    "def create_dashboard(api_key, datasource_uid):\n",
    "    headers = {\n",
    "        \"Authorization\": f\"Bearer {api_key}\",\n",
    "        \"Content-Type\": \"application/json\",\n",
    "    }\n",
    "\n",
    "    if is_localhost:\n",
    "        dashboard_file = \"../grafana/glimmerfox-dashboard.json\"\n",
    "    else:\n",
    "        dashboard_file = \"glimmerfox-dashboard.json\"\n",
    "\n",
    "    try:\n",
    "        with open(dashboard_file, \"r\") as f:\n",
    "            dashboard_json = json.load(f)\n",
    "    except FileNotFoundError:\n",
    "        print(f\"Error: {dashboard_file} not found.\")\n",
    "        return\n",
    "    except json.JSONDecodeError as e:\n",
    "        print(f\"Error decoding {dashboard_file}: {str(e)}\")\n",
    "        return\n",
    "\n",
    "    print(\"Dashboard JSON loaded successfully.\")\n",
    "\n",
    "    # Update datasource UID in the dashboard JSON\n",
    "    panels_updated = 0\n",
    "    for panel in dashboard_json.get(\"panels\", []):\n",
    "        if isinstance(panel.get(\"datasource\"), dict):\n",
    "            panel[\"datasource\"][\"uid\"] = datasource_uid\n",
    "            panels_updated += 1\n",
    "        elif isinstance(panel.get(\"targets\"), list):\n",
    "            for target in panel[\"targets\"]:\n",
    "                if isinstance(target.get(\"datasource\"), dict):\n",
    "                    target[\"datasource\"][\"uid\"] = datasource_uid\n",
    "                    panels_updated += 1\n",
    "\n",
    "    print(f\"Updated datasource UID for {panels_updated} panels/targets.\")\n",
    "\n",
    "    # Remove keys that shouldn't be included when creating a new dashboard\n",
    "    dashboard_json.pop(\"id\", None)\n",
    "    dashboard_json.pop(\"uid\", None)\n",
    "    dashboard_json.pop(\"version\", None)\n",
    "\n",
    "    # Prepare the payload\n",
    "    dashboard_payload = {\n",
    "        \"dashboard\": dashboard_json,\n",
    "        \"overwrite\": True,\n",
    "        \"message\": \"Updated by Python script\",\n",
    "    }\n",
    "\n",
    "    print(\"Sending dashboard creation request...\")\n",
    "\n",
    "    response = requests.post(\n",
    "        f\"{GRAFANA_URL}/api/dashboards/db\", headers=headers, json=dashboard_payload\n",
    "    )\n",
    "\n",
    "    print(f\"Response status code: {response.status_code}\")\n",
    "    print(f\"Response content: {response.text}\")\n",
    "\n",
    "    if response.status_code == 200:\n",
    "        print(\"Dashboard created successfully\")\n",
    "        return response.json().get(\"uid\")\n",
    "    else:\n",
    "        print(f\"Failed to create dashboard: {response.text}\")\n",
    "        return None"
   ]
  },
  {
   "cell_type": "code",
   "execution_count": null,
   "metadata": {},
   "outputs": [],
   "source": [
    "api_key = create_api_key()\n",
    "if not api_key:\n",
    "    print(\"API key creation failed\")\n",
    "# api_key"
   ]
  },
  {
   "cell_type": "code",
   "execution_count": 30,
   "metadata": {},
   "outputs": [
    {
     "name": "stdout",
     "output_type": "stream",
     "text": [
      "Datasource payload:\n",
      "{\n",
      "  \"name\": \"PostgreSQL\",\n",
      "  \"type\": \"postgres\",\n",
      "  \"url\": \"postgres:5432\",\n",
      "  \"access\": \"proxy\",\n",
      "  \"user\": \"your_username\",\n",
      "  \"database\": \"glimmerfox_db\",\n",
      "  \"basicAuth\": false,\n",
      "  \"isDefault\": true,\n",
      "  \"jsonData\": {\n",
      "    \"sslmode\": \"disable\",\n",
      "    \"postgresVersion\": 1300\n",
      "  },\n",
      "  \"secureJsonData\": {\n",
      "    \"password\": \"your_password\"\n",
      "  }\n",
      "}\n",
      "Updating existing datasource with id: 2\n",
      "Response status code: 200\n",
      "Response headers: {'Cache-Control': 'no-store', 'Content-Type': 'application/json', 'X-Content-Type-Options': 'nosniff', 'X-Xss-Protection': '1; mode=block', 'Date': 'Sat, 14 Sep 2024 13:34:57 GMT', 'Content-Length': '578'}\n",
      "Response content: {\"datasource\":{\"id\":2,\"uid\":\"bdxvgm04xh79ca\",\"orgId\":1,\"name\":\"PostgreSQL\",\"type\":\"grafana-postgresql-datasource\",\"typeLogoUrl\":\"public/app/plugins/datasource/grafana-postgresql-datasource/img/postgresql_logo.svg\",\"access\":\"proxy\",\"url\":\"postgres:5432\",\"user\":\"your_username\",\"database\":\"glimmerfox_db\",\"basicAuth\":false,\"basicAuthUser\":\"\",\"withCredentials\":false,\"isDefault\":true,\"jsonData\":{\"postgresVersion\":1300,\"sslmode\":\"disable\"},\"secureJsonFields\":{\"password\":true},\"version\":1,\"readOnly\":false,\"apiVersion\":\"\"},\"id\":2,\"message\":\"Datasource updated\",\"name\":\"PostgreSQL\"}\n",
      "Datasource created or updated successfully\n"
     ]
    },
    {
     "data": {
      "text/plain": [
       "'bdxvgm04xh79ca'"
      ]
     },
     "execution_count": 30,
     "metadata": {},
     "output_type": "execute_result"
    }
   ],
   "source": [
    "datasource_uid = create_or_update_datasource(api_key)\n",
    "if not datasource_uid:\n",
    "    print(\"Datasource creation failed\")\n",
    "datasource_uid\n"
   ]
  },
  {
   "cell_type": "code",
   "execution_count": 31,
   "metadata": {},
   "outputs": [
    {
     "name": "stdout",
     "output_type": "stream",
     "text": [
      "Error: ../grafana/glimmerfox-dashboard.json not found.\n"
     ]
    }
   ],
   "source": [
    "create_dashboard(api_key, datasource_uid)"
   ]
  },
  {
   "cell_type": "code",
   "execution_count": 32,
   "metadata": {},
   "outputs": [],
   "source": [
    "def check_grafana_status(url=\"http://localhost:3000\"):\n",
    "    try:\n",
    "        # Send a GET request to the Grafana server\n",
    "        response = requests.get(url)\n",
    "\n",
    "        # Check if the response status code is 200 (OK)\n",
    "        if response.status_code == 200:\n",
    "            print(\"Grafana service is running.\")\n",
    "        else:\n",
    "            print(f\"Grafana service returned status code {response.status_code}. It may not be running correctly.\")\n",
    "    except requests.exceptions.RequestException as e:\n",
    "        print(f\"Error connecting to Grafana service: {e}\")"
   ]
  },
  {
   "cell_type": "code",
   "execution_count": 33,
   "metadata": {},
   "outputs": [
    {
     "name": "stdout",
     "output_type": "stream",
     "text": [
      "Grafana service is running.\n"
     ]
    }
   ],
   "source": [
    "check_grafana_status()"
   ]
  },
  {
   "cell_type": "code",
   "execution_count": null,
   "metadata": {},
   "outputs": [],
   "source": []
  },
  {
   "cell_type": "code",
   "execution_count": null,
   "metadata": {},
   "outputs": [],
   "source": []
  }
 ],
 "metadata": {
  "kernelspec": {
   "display_name": "glimmerfox",
   "language": "python",
   "name": "python3"
  },
  "language_info": {
   "codemirror_mode": {
    "name": "ipython",
    "version": 3
   },
   "file_extension": ".py",
   "mimetype": "text/x-python",
   "name": "python",
   "nbconvert_exporter": "python",
   "pygments_lexer": "ipython3",
   "version": "3.11.9"
  }
 },
 "nbformat": 4,
 "nbformat_minor": 2
}
