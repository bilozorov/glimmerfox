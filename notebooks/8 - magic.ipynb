{
 "cells": [
  {
   "cell_type": "code",
   "execution_count": 1,
   "metadata": {},
   "outputs": [],
   "source": [
    "import requests\n",
    "import time\n",
    "import sys\n",
    "import os\n",
    "import json\n",
    "import uuid\n",
    "import psycopg2\n",
    "from psycopg2 import OperationalError, DatabaseError\n",
    "from psycopg2.extras import DictCursor\n",
    "from datetime import datetime, timezone, timedelta\n",
    "from zoneinfo import ZoneInfo\n",
    "import random\n",
    "from dotenv import load_dotenv"
   ]
  },
  {
   "cell_type": "code",
   "execution_count": 14,
   "metadata": {},
   "outputs": [],
   "source": [
    "########################################################\n",
    "####### Functions for checking services\n",
    "########################################################\n",
    "\n",
    "def is_elasticsearch_ready(url=\"http://localhost:9200\"):\n",
    "    try:\n",
    "        response = requests.get(url, timeout=5)\n",
    "        return response.status_code == 200\n",
    "    except requests.exceptions.RequestException as e:\n",
    "        print(f\"Error connecting to Elasticsearch service: {e}\")\n",
    "        return False\n",
    "\n",
    "def is_mage_ready(url=\"http://localhost:6789\"):\n",
    "    try:\n",
    "        response = requests.get(url, timeout=5)\n",
    "        return response.status_code == 200\n",
    "    except requests.exceptions.RequestException as e:\n",
    "        print(f\"Error connecting to Mage service: {e}\")\n",
    "        return False\n",
    "    \n",
    "def is_grafana_ready(url=\"http://localhost:3000\"):\n",
    "    try:\n",
    "        response = requests.get(url, timeout=5)\n",
    "        return response.status_code == 200\n",
    "    except requests.exceptions.RequestException as e:\n",
    "        print(f\"Error connecting to Grafana service: {e}\")\n",
    "        return False\n",
    "\n",
    "\n",
    "def wait_for_services(max_retries=12):  # 12 * 5 seconds = 1 minute total wait time\n",
    "    retries = 0\n",
    "    while retries < max_retries:\n",
    "        if is_elasticsearch_ready() and is_mage_ready():\n",
    "            print(\"All  Elasticsearch and Mage are ready!\")\n",
    "            return True\n",
    "        else:\n",
    "            print(f\"Attempt {retries + 1}/{max_retries}: Services not ready. Waiting 5 seconds...\")\n",
    "            time.sleep(5)\n",
    "            retries += 1\n",
    "    print(\"Max retries reached. Services are not ready.\")\n",
    "    return False"
   ]
  },
  {
   "cell_type": "code",
   "execution_count": 16,
   "metadata": {},
   "outputs": [],
   "source": [
    "def run_pipeline_populate_elasticsearch():\n",
    "    \"\"\"\n",
    "    populating by our KNWLG.base\n",
    "    \"\"\"\n",
    "    url = \"http://localhost:6789/api/pipeline_schedules/5/pipeline_runs/e148d1b8a12c4c65b6fe0b4b703e196f\"\n",
    "    headers = {\"Content-Type\": \"application/json\"}\n",
    "\n",
    "    print('!----> populate_elasticsearch for magic started', flush=True)\n",
    "    \n",
    "    try:\n",
    "        response = requests.post(url, headers=headers)\n",
    "        response.raise_for_status()\n",
    "        print(f'!----> populate_elasticsearch magic finished with code: {response.status_code}', flush=True)\n",
    "    except Exception as err:\n",
    "        print(f\"An unexpected error occurred magic: {err}\", flush=True)\n",
    "        print(\"Error details magic:\", sys.exc_info(), flush=True)\n",
    "    finally:\n",
    "        print(\"!----> Script execution completed magic.\", flush=True)"
   ]
  },
  {
   "cell_type": "code",
   "execution_count": 10,
   "metadata": {},
   "outputs": [
    {
     "data": {
      "text/plain": [
       "True"
      ]
     },
     "execution_count": 10,
     "metadata": {},
     "output_type": "execute_result"
    }
   ],
   "source": [
    "load_dotenv('../.env')"
   ]
  },
  {
   "cell_type": "code",
   "execution_count": 15,
   "metadata": {},
   "outputs": [
    {
     "name": "stdout",
     "output_type": "stream",
     "text": [
      "All  Elasticsearch and Mage are ready!\n"
     ]
    }
   ],
   "source": [
    "if not wait_for_services():\n",
    "    print(\"Exiting script as services are not ready.\")\n",
    "    sys.exit(1)"
   ]
  },
  {
   "cell_type": "code",
   "execution_count": 17,
   "metadata": {},
   "outputs": [
    {
     "name": "stdout",
     "output_type": "stream",
     "text": [
      "!----> populate_elasticsearch for magic started\n",
      "!----> populate_elasticsearch magic finished with code: 200\n",
      "!----> Script execution completed magic.\n"
     ]
    }
   ],
   "source": [
    "# Trigger pipeline in mage.ai\n",
    "\n",
    "run_pipeline_populate_elasticsearch()"
   ]
  }
 ],
 "metadata": {
  "kernelspec": {
   "display_name": "glimmerfox",
   "language": "python",
   "name": "python3"
  },
  "language_info": {
   "codemirror_mode": {
    "name": "ipython",
    "version": 3
   },
   "file_extension": ".py",
   "mimetype": "text/x-python",
   "name": "python",
   "nbconvert_exporter": "python",
   "pygments_lexer": "ipython3",
   "version": "3.11.9"
  }
 },
 "nbformat": 4,
 "nbformat_minor": 2
}
