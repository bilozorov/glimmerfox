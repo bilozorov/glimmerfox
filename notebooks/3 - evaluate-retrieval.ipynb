{
 "cells": [
  {
   "cell_type": "code",
   "execution_count": 1,
   "metadata": {},
   "outputs": [],
   "source": [
    "import os\n",
    "import time\n",
    "import json\n",
    "\n",
    "import openai\n",
    "from openai import OpenAI\n",
    "\n",
    "from elasticsearch import Elasticsearch\n",
    "\n",
    "import spacy\n",
    "import numpy as np"
   ]
  },
  {
   "cell_type": "code",
   "execution_count": 2,
   "metadata": {},
   "outputs": [],
   "source": [
    "import os\n",
    "import requests\n",
    "from elasticsearch import Elasticsearch\n",
    "import openai\n",
    "from openai import OpenAI\n",
    "import time\n",
    "import uuid\n",
    "import pandas as pd\n",
    "from tqdm.auto import tqdm"
   ]
  },
  {
   "cell_type": "code",
   "execution_count": 47,
   "metadata": {},
   "outputs": [],
   "source": [
    "# from assistant import get_answer, get_vector, elastic_search_knn, elastic_search_text, print_log"
   ]
  },
  {
   "cell_type": "code",
   "execution_count": 104,
   "metadata": {},
   "outputs": [],
   "source": [
    "df_ground_truth = pd.read_csv('ground-truth-data.csv')\n",
    "ground_truth = df_ground_truth.to_dict(orient='records')"
   ]
  },
  {
   "cell_type": "code",
   "execution_count": 5,
   "metadata": {},
   "outputs": [
    {
     "data": {
      "text/plain": [
       "{'question': 'Can you tell me the scientific classification of the Glimmerfox?',\n",
       " 'document_id': 'doc_1_what_is_the_genus_of_the_glimm'}"
      ]
     },
     "execution_count": 5,
     "metadata": {},
     "output_type": "execute_result"
    }
   ],
   "source": [
    "ground_truth[0]"
   ]
  },
  {
   "cell_type": "code",
   "execution_count": 6,
   "metadata": {},
   "outputs": [],
   "source": [
    "def mrr(relevance_total):\n",
    "    total_score = 0.0\n",
    "\n",
    "    for line in relevance_total:\n",
    "        for rank in range(len(line)):\n",
    "            if line[rank] == True:\n",
    "                total_score = total_score + 1 / (rank + 1)\n",
    "\n",
    "    return total_score / len(relevance_total)"
   ]
  },
  {
   "cell_type": "code",
   "execution_count": 10,
   "metadata": {},
   "outputs": [],
   "source": [
    "# es_client = Elasticsearch([f\"http://{os.environ.get('ELASTICSEARCH_HOST', 'localhost')}:{os.environ.get('ELASTICSEARCH_PORT', '9200')}\"])\n",
    "es_client = Elasticsearch(['http://localhost:9200'])"
   ]
  },
  {
   "cell_type": "code",
   "execution_count": 11,
   "metadata": {},
   "outputs": [
    {
     "name": "stdout",
     "output_type": "stream",
     "text": [
      "ES Checking = Document count in documents: 902\n"
     ]
    }
   ],
   "source": [
    "index_name='documents'\n",
    "try:\n",
    "    result = es_client.count(index=index_name)\n",
    "    print(f\"ES Checking = Document count in {index_name}: {result['count']}\")\n",
    "except Exception as e:\n",
    "    print(f\"ES Checking = Error: {str(e)}\")"
   ]
  },
  {
   "cell_type": "code",
   "execution_count": 9,
   "metadata": {},
   "outputs": [
    {
     "data": {
      "text/plain": [
       "('Can you tell me the scientific classification of the Glimmerfox?',\n",
       " 'doc_1_what_is_the_genus_of_the_glimm')"
      ]
     },
     "execution_count": 9,
     "metadata": {},
     "output_type": "execute_result"
    }
   ],
   "source": [
    "q = ground_truth[0]['question']\n",
    "d = ground_truth[0]['document_id']\n",
    "q, d"
   ]
  },
  {
   "cell_type": "code",
   "execution_count": 30,
   "metadata": {},
   "outputs": [
    {
     "data": {
      "text/plain": [
       "['doc_136_what_can_its_body_size_tell_us',\n",
       " 'doc_443_how_does_the_glimmerfox_s_hybr',\n",
       " 'doc_221_what_habitat_management_practi',\n",
       " 'doc_145_what_comparisons_can_be_made_w',\n",
       " 'doc_171_what_comparisons_can_be_made_b']"
      ]
     },
     "execution_count": 30,
     "metadata": {},
     "output_type": "execute_result"
    }
   ],
   "source": [
    "text_results = elastic_search_text(ground_truth[0]['question'])\n",
    "text_results = [item['document_id'] for item in text_results]\n",
    "text_results"
   ]
  },
  {
   "cell_type": "code",
   "execution_count": 32,
   "metadata": {},
   "outputs": [
    {
     "data": {
      "text/plain": [
       "['doc_42_how_does_the_glimmerfox_s_diet',\n",
       " 'doc_3_what_is_the_significance_of_th',\n",
       " 'doc_290_how_does_the_glimmerfox_s_repr',\n",
       " 'doc_53_how_does_the_glimmerfox_s_soci',\n",
       " 'doc_94_how_does_the_glimmerfox_s_beha']"
      ]
     },
     "execution_count": 32,
     "metadata": {},
     "output_type": "execute_result"
    }
   ],
   "source": [
    "knn_results = elastic_search_knn(ground_truth[0]['question'])\n",
    "knn_results = [item['document_id'] for item in knn_results]\n",
    "knn_results"
   ]
  },
  {
   "cell_type": "code",
   "execution_count": 12,
   "metadata": {},
   "outputs": [
    {
     "data": {
      "text/plain": [
       "[{'question': 'Can you tell me the scientific classification of the Glimmerfox?',\n",
       "  'document_id': 'doc_1_what_is_the_genus_of_the_glimm'},\n",
       " {'question': \"What makes the Glimmerfox's genus unique?\",\n",
       "  'document_id': 'doc_1_what_is_the_genus_of_the_glimm'},\n",
       " {'question': 'How does the Glimmerfox relate to foxes and lynxes?',\n",
       "  'document_id': 'doc_1_what_is_the_genus_of_the_glimm'}]"
      ]
     },
     "execution_count": 12,
     "metadata": {},
     "output_type": "execute_result"
    }
   ],
   "source": [
    "ground_truth[:3]"
   ]
  },
  {
   "cell_type": "code",
   "execution_count": 13,
   "metadata": {},
   "outputs": [
    {
     "data": {
      "text/html": [
       "<div>\n",
       "<style scoped>\n",
       "    .dataframe tbody tr th:only-of-type {\n",
       "        vertical-align: middle;\n",
       "    }\n",
       "\n",
       "    .dataframe tbody tr th {\n",
       "        vertical-align: top;\n",
       "    }\n",
       "\n",
       "    .dataframe thead th {\n",
       "        text-align: right;\n",
       "    }\n",
       "</style>\n",
       "<table border=\"1\" class=\"dataframe\">\n",
       "  <thead>\n",
       "    <tr style=\"text-align: right;\">\n",
       "      <th></th>\n",
       "      <th>question</th>\n",
       "      <th>document_id</th>\n",
       "    </tr>\n",
       "  </thead>\n",
       "  <tbody>\n",
       "    <tr>\n",
       "      <th>0</th>\n",
       "      <td>Can you tell me the scientific classification ...</td>\n",
       "      <td>doc_1_what_is_the_genus_of_the_glimm</td>\n",
       "    </tr>\n",
       "    <tr>\n",
       "      <th>1</th>\n",
       "      <td>What makes the Glimmerfox's genus unique?</td>\n",
       "      <td>doc_1_what_is_the_genus_of_the_glimm</td>\n",
       "    </tr>\n",
       "    <tr>\n",
       "      <th>2</th>\n",
       "      <td>How does the Glimmerfox relate to foxes and ly...</td>\n",
       "      <td>doc_1_what_is_the_genus_of_the_glimm</td>\n",
       "    </tr>\n",
       "    <tr>\n",
       "      <th>3</th>\n",
       "      <td>What is the purpose of the synthetic taxon Vul...</td>\n",
       "      <td>doc_1_what_is_the_genus_of_the_glimm</td>\n",
       "    </tr>\n",
       "    <tr>\n",
       "      <th>4</th>\n",
       "      <td>Could you explain the evolutionary traits of t...</td>\n",
       "      <td>doc_1_what_is_the_genus_of_the_glimm</td>\n",
       "    </tr>\n",
       "    <tr>\n",
       "      <th>...</th>\n",
       "      <td>...</td>\n",
       "      <td>...</td>\n",
       "    </tr>\n",
       "    <tr>\n",
       "      <th>4500</th>\n",
       "      <td>What role does the Glimmerfox play in seed dis...</td>\n",
       "      <td>doc_900_how_does_the_glimmerfox_influe</td>\n",
       "    </tr>\n",
       "    <tr>\n",
       "      <th>4501</th>\n",
       "      <td>In what ways does the Glimmerfox contribute to...</td>\n",
       "      <td>doc_900_how_does_the_glimmerfox_influe</td>\n",
       "    </tr>\n",
       "    <tr>\n",
       "      <th>4502</th>\n",
       "      <td>How does the feeding behavior of the Glimmerfo...</td>\n",
       "      <td>doc_900_how_does_the_glimmerfox_influe</td>\n",
       "    </tr>\n",
       "    <tr>\n",
       "      <th>4503</th>\n",
       "      <td>What impact does the Glimmerfox have on habita...</td>\n",
       "      <td>doc_900_how_does_the_glimmerfox_influe</td>\n",
       "    </tr>\n",
       "    <tr>\n",
       "      <th>4504</th>\n",
       "      <td>How can the Glimmerfox's behaviors enhance the...</td>\n",
       "      <td>doc_900_how_does_the_glimmerfox_influe</td>\n",
       "    </tr>\n",
       "  </tbody>\n",
       "</table>\n",
       "<p>4505 rows × 2 columns</p>\n",
       "</div>"
      ],
      "text/plain": [
       "                                               question  \\\n",
       "0     Can you tell me the scientific classification ...   \n",
       "1             What makes the Glimmerfox's genus unique?   \n",
       "2     How does the Glimmerfox relate to foxes and ly...   \n",
       "3     What is the purpose of the synthetic taxon Vul...   \n",
       "4     Could you explain the evolutionary traits of t...   \n",
       "...                                                 ...   \n",
       "4500  What role does the Glimmerfox play in seed dis...   \n",
       "4501  In what ways does the Glimmerfox contribute to...   \n",
       "4502  How does the feeding behavior of the Glimmerfo...   \n",
       "4503  What impact does the Glimmerfox have on habita...   \n",
       "4504  How can the Glimmerfox's behaviors enhance the...   \n",
       "\n",
       "                                 document_id  \n",
       "0       doc_1_what_is_the_genus_of_the_glimm  \n",
       "1       doc_1_what_is_the_genus_of_the_glimm  \n",
       "2       doc_1_what_is_the_genus_of_the_glimm  \n",
       "3       doc_1_what_is_the_genus_of_the_glimm  \n",
       "4       doc_1_what_is_the_genus_of_the_glimm  \n",
       "...                                      ...  \n",
       "4500  doc_900_how_does_the_glimmerfox_influe  \n",
       "4501  doc_900_how_does_the_glimmerfox_influe  \n",
       "4502  doc_900_how_does_the_glimmerfox_influe  \n",
       "4503  doc_900_how_does_the_glimmerfox_influe  \n",
       "4504  doc_900_how_does_the_glimmerfox_influe  \n",
       "\n",
       "[4505 rows x 2 columns]"
      ]
     },
     "execution_count": 13,
     "metadata": {},
     "output_type": "execute_result"
    }
   ],
   "source": [
    "df_ground_truth = pd.read_csv('ground-truth-data.csv')\n",
    "df_ground_truth"
   ]
  },
  {
   "cell_type": "code",
   "execution_count": 14,
   "metadata": {},
   "outputs": [
    {
     "data": {
      "text/plain": [
       "('Can you tell me the scientific classification of the Glimmerfox?',\n",
       " 'doc_1_what_is_the_genus_of_the_glimm')"
      ]
     },
     "execution_count": 14,
     "metadata": {},
     "output_type": "execute_result"
    }
   ],
   "source": [
    "truth_question = df_ground_truth.iloc[0]['question']\n",
    "truth_document_id = df_ground_truth.iloc[0]['document_id']\n",
    "truth_question, truth_document_id\n"
   ]
  },
  {
   "cell_type": "code",
   "execution_count": 51,
   "metadata": {},
   "outputs": [],
   "source": [
    "import spacy\n",
    "import numpy as np\n",
    "\n",
    "nlp = spacy.load('en_core_web_sm')"
   ]
  },
  {
   "cell_type": "code",
   "execution_count": 52,
   "metadata": {},
   "outputs": [],
   "source": [
    "def get_vector(query):\n",
    "    doc = nlp(query)\n",
    "    tokens = [token.lemma_ for token in doc]\n",
    "    text = ' '.join(tokens)\n",
    "    doc_lemmatized = nlp(text)\n",
    "    vector = np.mean([token.vector for token in doc_lemmatized], axis=0).tolist()\n",
    "    return vector"
   ]
  },
  {
   "cell_type": "code",
   "execution_count": 53,
   "metadata": {},
   "outputs": [],
   "source": [
    "def elastic_search_text(query, index_name=\"documents\"):\n",
    "    search_query = {\n",
    "        \"size\": 10,\n",
    "        \"query\": {\n",
    "            \"bool\": {\n",
    "                \"must\": {\n",
    "                    \"multi_match\": {\n",
    "                        \"query\": query,\n",
    "                        \"fields\": [\"question^3\", \"answer\"],\n",
    "                        \"type\": \"best_fields\"\n",
    "                    }\n",
    "                },\n",
    "            }\n",
    "        }\n",
    "    }\n",
    "\n",
    "    response = es_client.search(index=index_name, body=search_query)\n",
    "    return [hit[\"_source\"] for hit in response[\"hits\"][\"hits\"]]"
   ]
  },
  {
   "cell_type": "code",
   "execution_count": 54,
   "metadata": {},
   "outputs": [],
   "source": [
    "def elastic_search_knn(query, index_name=\"documents\", field='embedding'):\n",
    "                \n",
    "    vector = get_vector(query)\n",
    "\n",
    "    search_body = {\n",
    "        \"knn\": {\n",
    "            \"field\": \"embedding\",\n",
    "            \"query_vector\": vector,\n",
    "            \"k\": 10,\n",
    "            \"num_candidates\": 100\n",
    "        },\n",
    "        \"size\": 10,\n",
    "        \"_source\": ['document_id', 'question', 'answer'],\n",
    "    }\n",
    "\n",
    "    es_results = es_client.search(index=index_name, body=search_body)\n",
    "\n",
    "    return [hit[\"_source\"] for hit in es_results[\"hits\"][\"hits\"]]"
   ]
  },
  {
   "cell_type": "code",
   "execution_count": 95,
   "metadata": {},
   "outputs": [],
   "source": [
    "def elastic_search_knn_combined_style(query, index_name=\"documents\", field='embedding'):\n",
    "    # Obtain the vector representation of the query\n",
    "    vector = get_vector(query)\n",
    "\n",
    "    # Construct the search query using a script score for cosine similarity\n",
    "    search_query = {\n",
    "        \"size\": 10,  # Number of results to return\n",
    "        \"query\": {\n",
    "            \"bool\": {\n",
    "                \"must\": [\n",
    "                    {\n",
    "                        \"script_score\": {\n",
    "                            \"query\": {\n",
    "                                \"match_all\": {}  # Match all documents to apply custom scoring\n",
    "                            },\n",
    "                            \"script\": {\n",
    "                                \"source\": \"\"\"\n",
    "                                    cosineSimilarity(params.query_vector, 'embedding') + 1\n",
    "                                \"\"\",  # +1 to ensure the score is positive\n",
    "                                \"params\": {\n",
    "                                    \"query_vector\": vector\n",
    "                                }\n",
    "                            }\n",
    "                        }\n",
    "                    }\n",
    "                ]\n",
    "            }\n",
    "        },\n",
    "        \"_source\": ['document_id', 'question', 'answer']  # Fields to return in the results\n",
    "    }\n",
    "\n",
    "    # Perform the search with the constructed query\n",
    "    es_results = es_client.search(index=index_name, body=search_query)\n",
    "\n",
    "    # Extract and return the results\n",
    "    result_docs = [hit[\"_source\"] for hit in es_results[\"hits\"][\"hits\"]]\n",
    "\n",
    "    return result_docs\n"
   ]
  },
  {
   "cell_type": "code",
   "execution_count": 55,
   "metadata": {},
   "outputs": [],
   "source": [
    "def hit_rate_one(original_id, search_results):\n",
    "    return 1 if original_id in search_results else 0"
   ]
  },
  {
   "cell_type": "code",
   "execution_count": 80,
   "metadata": {},
   "outputs": [],
   "source": [
    "def mrr_one(original_id, search_results):\n",
    "    mrr = 0\n",
    "    for position in range(len(search_results)):\n",
    "        if search_results[position] == original_id:\n",
    "            mrr += 1 / (position + 1)\n",
    "    return mrr"
   ]
  },
  {
   "cell_type": "code",
   "execution_count": 57,
   "metadata": {},
   "outputs": [
    {
     "data": {
      "text/plain": [
       "(['doc_136_what_can_its_body_size_tell_us',\n",
       "  'doc_443_how_does_the_glimmerfox_s_hybr',\n",
       "  'doc_221_what_habitat_management_practi',\n",
       "  'doc_145_what_comparisons_can_be_made_w',\n",
       "  'doc_171_what_comparisons_can_be_made_b',\n",
       "  'doc_107_what_comparisons_can_be_drawn_',\n",
       "  'doc_119_what_comparisons_can_be_made_b',\n",
       "  'doc_297_how_does_the_glimmerfox_s_hybr',\n",
       "  'doc_299_how_does_the_glimmerfox_s_pres',\n",
       "  'doc_325_how_does_the_glimmerfox_affect'],\n",
       " 0)"
      ]
     },
     "execution_count": 57,
     "metadata": {},
     "output_type": "execute_result"
    }
   ],
   "source": [
    "text_results = elastic_search_text(truth_question)\n",
    "text_results = [item['document_id'] for item in text_results]\n",
    "text_results, hit_rate_one(truth_document_id, text_results)"
   ]
  },
  {
   "cell_type": "code",
   "execution_count": 73,
   "metadata": {},
   "outputs": [
    {
     "data": {
      "text/plain": [
       "(['doc_333_how_does_the_glimmerfox_s_adap',\n",
       "  'doc_1_what_is_the_genus_of_the_glimm',\n",
       "  'doc_2_what_is_the_species_designatio',\n",
       "  'doc_212_how_does_the_glimmerfox_affect',\n",
       "  'doc_310_what_are_the_implications_of_t',\n",
       "  'doc_269_what_are_the_implications_of_t',\n",
       "  'doc_643_how_does_the_glimmerfox_influe',\n",
       "  'doc_749_how_does_the_glimmerfox_s_hybr',\n",
       "  'doc_116_how_does_the_eye_structure_of_',\n",
       "  'doc_248_how_does_the_glimmerfox_s_hybr'],\n",
       " 1)"
      ]
     },
     "execution_count": 73,
     "metadata": {},
     "output_type": "execute_result"
    }
   ],
   "source": [
    "knn_results = elastic_search_knn(truth_question)\n",
    "\n",
    "knn_results = [item['document_id'] for item in knn_results]\n",
    "knn_results, hit_rate_one(truth_document_id, knn_results)"
   ]
  },
  {
   "cell_type": "code",
   "execution_count": 97,
   "metadata": {},
   "outputs": [
    {
     "data": {
      "text/plain": [
       "(['doc_333_how_does_the_glimmerfox_s_adap',\n",
       "  'doc_1_what_is_the_genus_of_the_glimm',\n",
       "  'doc_2_what_is_the_species_designatio',\n",
       "  'doc_212_how_does_the_glimmerfox_affect',\n",
       "  'doc_310_what_are_the_implications_of_t',\n",
       "  'doc_269_what_are_the_implications_of_t',\n",
       "  'doc_643_how_does_the_glimmerfox_influe',\n",
       "  'doc_749_how_does_the_glimmerfox_s_hybr',\n",
       "  'doc_116_how_does_the_eye_structure_of_',\n",
       "  'doc_248_how_does_the_glimmerfox_s_hybr'],\n",
       " 1)"
      ]
     },
     "execution_count": 97,
     "metadata": {},
     "output_type": "execute_result"
    }
   ],
   "source": [
    "knn_results = elastic_search_knn_combined_style(truth_question)\n",
    "knn_combined_results = [item['document_id'] for item in knn_results]\n",
    "knn_combined_results, hit_rate_one(truth_document_id, knn_combined_results)"
   ]
  },
  {
   "cell_type": "code",
   "execution_count": 59,
   "metadata": {},
   "outputs": [
    {
     "data": {
      "text/plain": [
       "'Can you tell me the scientific classification of the Glimmerfox?'"
      ]
     },
     "execution_count": 59,
     "metadata": {},
     "output_type": "execute_result"
    }
   ],
   "source": [
    "truth_question"
   ]
  },
  {
   "cell_type": "code",
   "execution_count": 64,
   "metadata": {},
   "outputs": [
    {
     "data": {
      "text/html": [
       "<div>\n",
       "<style scoped>\n",
       "    .dataframe tbody tr th:only-of-type {\n",
       "        vertical-align: middle;\n",
       "    }\n",
       "\n",
       "    .dataframe tbody tr th {\n",
       "        vertical-align: top;\n",
       "    }\n",
       "\n",
       "    .dataframe thead th {\n",
       "        text-align: right;\n",
       "    }\n",
       "</style>\n",
       "<table border=\"1\" class=\"dataframe\">\n",
       "  <thead>\n",
       "    <tr style=\"text-align: right;\">\n",
       "      <th></th>\n",
       "      <th>question</th>\n",
       "      <th>document_id</th>\n",
       "    </tr>\n",
       "  </thead>\n",
       "  <tbody>\n",
       "    <tr>\n",
       "      <th>0</th>\n",
       "      <td>Can you tell me the scientific classification ...</td>\n",
       "      <td>doc_1_what_is_the_genus_of_the_glimm</td>\n",
       "    </tr>\n",
       "    <tr>\n",
       "      <th>1</th>\n",
       "      <td>What makes the Glimmerfox's genus unique?</td>\n",
       "      <td>doc_1_what_is_the_genus_of_the_glimm</td>\n",
       "    </tr>\n",
       "    <tr>\n",
       "      <th>2</th>\n",
       "      <td>How does the Glimmerfox relate to foxes and ly...</td>\n",
       "      <td>doc_1_what_is_the_genus_of_the_glimm</td>\n",
       "    </tr>\n",
       "    <tr>\n",
       "      <th>3</th>\n",
       "      <td>What is the purpose of the synthetic taxon Vul...</td>\n",
       "      <td>doc_1_what_is_the_genus_of_the_glimm</td>\n",
       "    </tr>\n",
       "    <tr>\n",
       "      <th>4</th>\n",
       "      <td>Could you explain the evolutionary traits of t...</td>\n",
       "      <td>doc_1_what_is_the_genus_of_the_glimm</td>\n",
       "    </tr>\n",
       "    <tr>\n",
       "      <th>...</th>\n",
       "      <td>...</td>\n",
       "      <td>...</td>\n",
       "    </tr>\n",
       "    <tr>\n",
       "      <th>4500</th>\n",
       "      <td>What role does the Glimmerfox play in seed dis...</td>\n",
       "      <td>doc_900_how_does_the_glimmerfox_influe</td>\n",
       "    </tr>\n",
       "    <tr>\n",
       "      <th>4501</th>\n",
       "      <td>In what ways does the Glimmerfox contribute to...</td>\n",
       "      <td>doc_900_how_does_the_glimmerfox_influe</td>\n",
       "    </tr>\n",
       "    <tr>\n",
       "      <th>4502</th>\n",
       "      <td>How does the feeding behavior of the Glimmerfo...</td>\n",
       "      <td>doc_900_how_does_the_glimmerfox_influe</td>\n",
       "    </tr>\n",
       "    <tr>\n",
       "      <th>4503</th>\n",
       "      <td>What impact does the Glimmerfox have on habita...</td>\n",
       "      <td>doc_900_how_does_the_glimmerfox_influe</td>\n",
       "    </tr>\n",
       "    <tr>\n",
       "      <th>4504</th>\n",
       "      <td>How can the Glimmerfox's behaviors enhance the...</td>\n",
       "      <td>doc_900_how_does_the_glimmerfox_influe</td>\n",
       "    </tr>\n",
       "  </tbody>\n",
       "</table>\n",
       "<p>4505 rows × 2 columns</p>\n",
       "</div>"
      ],
      "text/plain": [
       "                                               question  \\\n",
       "0     Can you tell me the scientific classification ...   \n",
       "1             What makes the Glimmerfox's genus unique?   \n",
       "2     How does the Glimmerfox relate to foxes and ly...   \n",
       "3     What is the purpose of the synthetic taxon Vul...   \n",
       "4     Could you explain the evolutionary traits of t...   \n",
       "...                                                 ...   \n",
       "4500  What role does the Glimmerfox play in seed dis...   \n",
       "4501  In what ways does the Glimmerfox contribute to...   \n",
       "4502  How does the feeding behavior of the Glimmerfo...   \n",
       "4503  What impact does the Glimmerfox have on habita...   \n",
       "4504  How can the Glimmerfox's behaviors enhance the...   \n",
       "\n",
       "                                 document_id  \n",
       "0       doc_1_what_is_the_genus_of_the_glimm  \n",
       "1       doc_1_what_is_the_genus_of_the_glimm  \n",
       "2       doc_1_what_is_the_genus_of_the_glimm  \n",
       "3       doc_1_what_is_the_genus_of_the_glimm  \n",
       "4       doc_1_what_is_the_genus_of_the_glimm  \n",
       "...                                      ...  \n",
       "4500  doc_900_how_does_the_glimmerfox_influe  \n",
       "4501  doc_900_how_does_the_glimmerfox_influe  \n",
       "4502  doc_900_how_does_the_glimmerfox_influe  \n",
       "4503  doc_900_how_does_the_glimmerfox_influe  \n",
       "4504  doc_900_how_does_the_glimmerfox_influe  \n",
       "\n",
       "[4505 rows x 2 columns]"
      ]
     },
     "execution_count": 64,
     "metadata": {},
     "output_type": "execute_result"
    }
   ],
   "source": [
    "df_ground_truth"
   ]
  },
  {
   "cell_type": "code",
   "execution_count": 99,
   "metadata": {},
   "outputs": [
    {
     "data": {
      "application/vnd.jupyter.widget-view+json": {
       "model_id": "336565e7742040b0ae4bf936ce1f2f01",
       "version_major": 2,
       "version_minor": 0
      },
      "text/plain": [
       "Processing rows:   0%|          | 0/4505 [00:00<?, ?it/s]"
      ]
     },
     "metadata": {},
     "output_type": "display_data"
    }
   ],
   "source": [
    "hit_rate_results_text = []\n",
    "hit_rate_results_vector = []\n",
    "hit_rate_results_vector_combined = []\n",
    "mrr_results_text = []\n",
    "mrr_results_vector = []\n",
    "mrr_results_vector_combined = []\n",
    "\n",
    "# for index, row in df_ground_truth.iterrows():\n",
    "for index, row in tqdm(df_ground_truth.iterrows(), total=df_ground_truth.shape[0], desc=\"Processing rows\"):\n",
    "    document_id = row['document_id']\n",
    "    question = row['question']\n",
    "    \n",
    "    text_results = elastic_search_text(question)\n",
    "    text_results = [item['document_id'] for item in text_results]\n",
    "    \n",
    "    hit_rate_text = hit_rate_one(document_id, text_results)\n",
    "    hit_rate_results_text.append(hit_rate_text)\n",
    "    mrr_text = mrr_one(document_id, text_results)\n",
    "    mrr_results_text.append(mrr_text)\n",
    "\n",
    "    knn_results = elastic_search_knn(question)\n",
    "    knn_results = [item['document_id'] for item in knn_results]\n",
    "\n",
    "    hit_rate_vector = hit_rate_one(document_id, knn_results)\n",
    "    hit_rate_results_vector.append(hit_rate_vector)\n",
    "    mrr_vector = mrr_one(document_id, knn_results)\n",
    "    mrr_results_vector.append(mrr_vector)\n",
    "\n",
    "    knn_combined_results = elastic_search_knn_combined_style(truth_question)\n",
    "    knn_combined_results = [item['document_id'] for item in knn_combined_results]\n",
    "    hit_rate_vector_combined = hit_rate_one(document_id, knn_combined_results)\n",
    "    hit_rate_results_vector_combined.append(hit_rate_vector_combined)\n",
    "    mrr_vector_combined = mrr_one(document_id, knn_combined_results)\n",
    "    mrr_results_vector_combined.append(mrr_vector_combined)\n"
   ]
  },
  {
   "cell_type": "code",
   "execution_count": 105,
   "metadata": {},
   "outputs": [
    {
     "data": {
      "text/plain": [
       "(4505, 4505, 4505, 4505, 4505, 4505, 4505)"
      ]
     },
     "execution_count": 105,
     "metadata": {},
     "output_type": "execute_result"
    }
   ],
   "source": [
    "len(df_ground_truth), len(hit_rate_results_text), len(hit_rate_results_vector), len(mrr_results_text), len(mrr_results_vector), len(hit_rate_results_vector_combined), len(mrr_results_vector_combined)"
   ]
  },
  {
   "cell_type": "code",
   "execution_count": 106,
   "metadata": {},
   "outputs": [],
   "source": [
    "df_ground_truth['hit_rate_text'] = hit_rate_results_text\n",
    "df_ground_truth['hit_rate_vector'] = hit_rate_results_vector\n",
    "df_ground_truth['hit_rate_vector_combined'] = hit_rate_results_vector_combined\n",
    "df_ground_truth['mrr_text'] = mrr_results_text\n",
    "df_ground_truth['mrr_vector'] = mrr_results_vector\n",
    "df_ground_truth['mrr_vector_combined'] = mrr_results_vector_combined\n"
   ]
  },
  {
   "cell_type": "code",
   "execution_count": 107,
   "metadata": {},
   "outputs": [
    {
     "data": {
      "text/html": [
       "<div>\n",
       "<style scoped>\n",
       "    .dataframe tbody tr th:only-of-type {\n",
       "        vertical-align: middle;\n",
       "    }\n",
       "\n",
       "    .dataframe tbody tr th {\n",
       "        vertical-align: top;\n",
       "    }\n",
       "\n",
       "    .dataframe thead th {\n",
       "        text-align: right;\n",
       "    }\n",
       "</style>\n",
       "<table border=\"1\" class=\"dataframe\">\n",
       "  <thead>\n",
       "    <tr style=\"text-align: right;\">\n",
       "      <th></th>\n",
       "      <th>question</th>\n",
       "      <th>document_id</th>\n",
       "      <th>hit_rate_text</th>\n",
       "      <th>hit_rate_vector</th>\n",
       "      <th>hit_rate_vector_combined</th>\n",
       "      <th>mrr_text</th>\n",
       "      <th>mrr_vector</th>\n",
       "      <th>mrr_vector_combined</th>\n",
       "    </tr>\n",
       "  </thead>\n",
       "  <tbody>\n",
       "    <tr>\n",
       "      <th>0</th>\n",
       "      <td>Can you tell me the scientific classification ...</td>\n",
       "      <td>doc_1_what_is_the_genus_of_the_glimm</td>\n",
       "      <td>0</td>\n",
       "      <td>1</td>\n",
       "      <td>1</td>\n",
       "      <td>0.0</td>\n",
       "      <td>0.5</td>\n",
       "      <td>0.5</td>\n",
       "    </tr>\n",
       "    <tr>\n",
       "      <th>1</th>\n",
       "      <td>What makes the Glimmerfox's genus unique?</td>\n",
       "      <td>doc_1_what_is_the_genus_of_the_glimm</td>\n",
       "      <td>1</td>\n",
       "      <td>0</td>\n",
       "      <td>1</td>\n",
       "      <td>1.0</td>\n",
       "      <td>0.0</td>\n",
       "      <td>0.5</td>\n",
       "    </tr>\n",
       "    <tr>\n",
       "      <th>2</th>\n",
       "      <td>How does the Glimmerfox relate to foxes and ly...</td>\n",
       "      <td>doc_1_what_is_the_genus_of_the_glimm</td>\n",
       "      <td>0</td>\n",
       "      <td>0</td>\n",
       "      <td>1</td>\n",
       "      <td>0.0</td>\n",
       "      <td>0.0</td>\n",
       "      <td>0.5</td>\n",
       "    </tr>\n",
       "    <tr>\n",
       "      <th>3</th>\n",
       "      <td>What is the purpose of the synthetic taxon Vul...</td>\n",
       "      <td>doc_1_what_is_the_genus_of_the_glimm</td>\n",
       "      <td>1</td>\n",
       "      <td>0</td>\n",
       "      <td>1</td>\n",
       "      <td>1.0</td>\n",
       "      <td>0.0</td>\n",
       "      <td>0.5</td>\n",
       "    </tr>\n",
       "    <tr>\n",
       "      <th>4</th>\n",
       "      <td>Could you explain the evolutionary traits of t...</td>\n",
       "      <td>doc_1_what_is_the_genus_of_the_glimm</td>\n",
       "      <td>0</td>\n",
       "      <td>1</td>\n",
       "      <td>1</td>\n",
       "      <td>0.0</td>\n",
       "      <td>0.5</td>\n",
       "      <td>0.5</td>\n",
       "    </tr>\n",
       "    <tr>\n",
       "      <th>...</th>\n",
       "      <td>...</td>\n",
       "      <td>...</td>\n",
       "      <td>...</td>\n",
       "      <td>...</td>\n",
       "      <td>...</td>\n",
       "      <td>...</td>\n",
       "      <td>...</td>\n",
       "      <td>...</td>\n",
       "    </tr>\n",
       "    <tr>\n",
       "      <th>4500</th>\n",
       "      <td>What role does the Glimmerfox play in seed dis...</td>\n",
       "      <td>doc_900_how_does_the_glimmerfox_influe</td>\n",
       "      <td>0</td>\n",
       "      <td>0</td>\n",
       "      <td>0</td>\n",
       "      <td>0.0</td>\n",
       "      <td>0.0</td>\n",
       "      <td>0.0</td>\n",
       "    </tr>\n",
       "    <tr>\n",
       "      <th>4501</th>\n",
       "      <td>In what ways does the Glimmerfox contribute to...</td>\n",
       "      <td>doc_900_how_does_the_glimmerfox_influe</td>\n",
       "      <td>0</td>\n",
       "      <td>0</td>\n",
       "      <td>0</td>\n",
       "      <td>0.0</td>\n",
       "      <td>0.0</td>\n",
       "      <td>0.0</td>\n",
       "    </tr>\n",
       "    <tr>\n",
       "      <th>4502</th>\n",
       "      <td>How does the feeding behavior of the Glimmerfo...</td>\n",
       "      <td>doc_900_how_does_the_glimmerfox_influe</td>\n",
       "      <td>0</td>\n",
       "      <td>1</td>\n",
       "      <td>0</td>\n",
       "      <td>0.0</td>\n",
       "      <td>1.0</td>\n",
       "      <td>0.0</td>\n",
       "    </tr>\n",
       "    <tr>\n",
       "      <th>4503</th>\n",
       "      <td>What impact does the Glimmerfox have on habita...</td>\n",
       "      <td>doc_900_how_does_the_glimmerfox_influe</td>\n",
       "      <td>0</td>\n",
       "      <td>0</td>\n",
       "      <td>0</td>\n",
       "      <td>0.0</td>\n",
       "      <td>0.0</td>\n",
       "      <td>0.0</td>\n",
       "    </tr>\n",
       "    <tr>\n",
       "      <th>4504</th>\n",
       "      <td>How can the Glimmerfox's behaviors enhance the...</td>\n",
       "      <td>doc_900_how_does_the_glimmerfox_influe</td>\n",
       "      <td>1</td>\n",
       "      <td>0</td>\n",
       "      <td>0</td>\n",
       "      <td>1.0</td>\n",
       "      <td>0.0</td>\n",
       "      <td>0.0</td>\n",
       "    </tr>\n",
       "  </tbody>\n",
       "</table>\n",
       "<p>4505 rows × 8 columns</p>\n",
       "</div>"
      ],
      "text/plain": [
       "                                               question  \\\n",
       "0     Can you tell me the scientific classification ...   \n",
       "1             What makes the Glimmerfox's genus unique?   \n",
       "2     How does the Glimmerfox relate to foxes and ly...   \n",
       "3     What is the purpose of the synthetic taxon Vul...   \n",
       "4     Could you explain the evolutionary traits of t...   \n",
       "...                                                 ...   \n",
       "4500  What role does the Glimmerfox play in seed dis...   \n",
       "4501  In what ways does the Glimmerfox contribute to...   \n",
       "4502  How does the feeding behavior of the Glimmerfo...   \n",
       "4503  What impact does the Glimmerfox have on habita...   \n",
       "4504  How can the Glimmerfox's behaviors enhance the...   \n",
       "\n",
       "                                 document_id  hit_rate_text  hit_rate_vector  \\\n",
       "0       doc_1_what_is_the_genus_of_the_glimm              0                1   \n",
       "1       doc_1_what_is_the_genus_of_the_glimm              1                0   \n",
       "2       doc_1_what_is_the_genus_of_the_glimm              0                0   \n",
       "3       doc_1_what_is_the_genus_of_the_glimm              1                0   \n",
       "4       doc_1_what_is_the_genus_of_the_glimm              0                1   \n",
       "...                                      ...            ...              ...   \n",
       "4500  doc_900_how_does_the_glimmerfox_influe              0                0   \n",
       "4501  doc_900_how_does_the_glimmerfox_influe              0                0   \n",
       "4502  doc_900_how_does_the_glimmerfox_influe              0                1   \n",
       "4503  doc_900_how_does_the_glimmerfox_influe              0                0   \n",
       "4504  doc_900_how_does_the_glimmerfox_influe              1                0   \n",
       "\n",
       "      hit_rate_vector_combined  mrr_text  mrr_vector  mrr_vector_combined  \n",
       "0                            1       0.0         0.5                  0.5  \n",
       "1                            1       1.0         0.0                  0.5  \n",
       "2                            1       0.0         0.0                  0.5  \n",
       "3                            1       1.0         0.0                  0.5  \n",
       "4                            1       0.0         0.5                  0.5  \n",
       "...                        ...       ...         ...                  ...  \n",
       "4500                         0       0.0         0.0                  0.0  \n",
       "4501                         0       0.0         0.0                  0.0  \n",
       "4502                         0       0.0         1.0                  0.0  \n",
       "4503                         0       0.0         0.0                  0.0  \n",
       "4504                         0       1.0         0.0                  0.0  \n",
       "\n",
       "[4505 rows x 8 columns]"
      ]
     },
     "execution_count": 107,
     "metadata": {},
     "output_type": "execute_result"
    }
   ],
   "source": [
    "df_ground_truth"
   ]
  },
  {
   "cell_type": "code",
   "execution_count": 108,
   "metadata": {},
   "outputs": [
    {
     "data": {
      "text/html": [
       "<div>\n",
       "<style scoped>\n",
       "    .dataframe tbody tr th:only-of-type {\n",
       "        vertical-align: middle;\n",
       "    }\n",
       "\n",
       "    .dataframe tbody tr th {\n",
       "        vertical-align: top;\n",
       "    }\n",
       "\n",
       "    .dataframe thead th {\n",
       "        text-align: right;\n",
       "    }\n",
       "</style>\n",
       "<table border=\"1\" class=\"dataframe\">\n",
       "  <thead>\n",
       "    <tr style=\"text-align: right;\">\n",
       "      <th></th>\n",
       "      <th>hit_rate_text</th>\n",
       "      <th>hit_rate_vector</th>\n",
       "      <th>hit_rate_vector_combined</th>\n",
       "      <th>mrr_text</th>\n",
       "      <th>mrr_vector</th>\n",
       "      <th>mrr_vector_combined</th>\n",
       "    </tr>\n",
       "  </thead>\n",
       "  <tbody>\n",
       "    <tr>\n",
       "      <th>count</th>\n",
       "      <td>4505.000000</td>\n",
       "      <td>4505.000000</td>\n",
       "      <td>4505.000000</td>\n",
       "      <td>4505.000000</td>\n",
       "      <td>4505.000000</td>\n",
       "      <td>4505.000000</td>\n",
       "    </tr>\n",
       "    <tr>\n",
       "      <th>mean</th>\n",
       "      <td>0.392675</td>\n",
       "      <td>0.078135</td>\n",
       "      <td>0.011099</td>\n",
       "      <td>0.211015</td>\n",
       "      <td>0.033123</td>\n",
       "      <td>0.003251</td>\n",
       "    </tr>\n",
       "    <tr>\n",
       "      <th>std</th>\n",
       "      <td>0.488400</td>\n",
       "      <td>0.268414</td>\n",
       "      <td>0.104776</td>\n",
       "      <td>0.347560</td>\n",
       "      <td>0.147779</td>\n",
       "      <td>0.041351</td>\n",
       "    </tr>\n",
       "    <tr>\n",
       "      <th>min</th>\n",
       "      <td>0.000000</td>\n",
       "      <td>0.000000</td>\n",
       "      <td>0.000000</td>\n",
       "      <td>0.000000</td>\n",
       "      <td>0.000000</td>\n",
       "      <td>0.000000</td>\n",
       "    </tr>\n",
       "    <tr>\n",
       "      <th>25%</th>\n",
       "      <td>0.000000</td>\n",
       "      <td>0.000000</td>\n",
       "      <td>0.000000</td>\n",
       "      <td>0.000000</td>\n",
       "      <td>0.000000</td>\n",
       "      <td>0.000000</td>\n",
       "    </tr>\n",
       "    <tr>\n",
       "      <th>50%</th>\n",
       "      <td>0.000000</td>\n",
       "      <td>0.000000</td>\n",
       "      <td>0.000000</td>\n",
       "      <td>0.000000</td>\n",
       "      <td>0.000000</td>\n",
       "      <td>0.000000</td>\n",
       "    </tr>\n",
       "    <tr>\n",
       "      <th>75%</th>\n",
       "      <td>1.000000</td>\n",
       "      <td>0.000000</td>\n",
       "      <td>0.000000</td>\n",
       "      <td>0.250000</td>\n",
       "      <td>0.000000</td>\n",
       "      <td>0.000000</td>\n",
       "    </tr>\n",
       "    <tr>\n",
       "      <th>max</th>\n",
       "      <td>1.000000</td>\n",
       "      <td>1.000000</td>\n",
       "      <td>1.000000</td>\n",
       "      <td>1.000000</td>\n",
       "      <td>1.000000</td>\n",
       "      <td>1.000000</td>\n",
       "    </tr>\n",
       "  </tbody>\n",
       "</table>\n",
       "</div>"
      ],
      "text/plain": [
       "       hit_rate_text  hit_rate_vector  hit_rate_vector_combined     mrr_text  \\\n",
       "count    4505.000000      4505.000000               4505.000000  4505.000000   \n",
       "mean        0.392675         0.078135                  0.011099     0.211015   \n",
       "std         0.488400         0.268414                  0.104776     0.347560   \n",
       "min         0.000000         0.000000                  0.000000     0.000000   \n",
       "25%         0.000000         0.000000                  0.000000     0.000000   \n",
       "50%         0.000000         0.000000                  0.000000     0.000000   \n",
       "75%         1.000000         0.000000                  0.000000     0.250000   \n",
       "max         1.000000         1.000000                  1.000000     1.000000   \n",
       "\n",
       "        mrr_vector  mrr_vector_combined  \n",
       "count  4505.000000          4505.000000  \n",
       "mean      0.033123             0.003251  \n",
       "std       0.147779             0.041351  \n",
       "min       0.000000             0.000000  \n",
       "25%       0.000000             0.000000  \n",
       "50%       0.000000             0.000000  \n",
       "75%       0.000000             0.000000  \n",
       "max       1.000000             1.000000  "
      ]
     },
     "execution_count": 108,
     "metadata": {},
     "output_type": "execute_result"
    }
   ],
   "source": [
    "df_ground_truth.describe()"
   ]
  },
  {
   "cell_type": "code",
   "execution_count": 110,
   "metadata": {},
   "outputs": [],
   "source": [
    "df_ground_truth.to_csv('ground_truth_metrics_retrieval.csv', index=False, sep=';', encoding='utf-8')"
   ]
  },
  {
   "cell_type": "code",
   "execution_count": null,
   "metadata": {},
   "outputs": [],
   "source": []
  }
 ],
 "metadata": {
  "kernelspec": {
   "display_name": "glimmerfox",
   "language": "python",
   "name": "python3"
  },
  "language_info": {
   "codemirror_mode": {
    "name": "ipython",
    "version": 3
   },
   "file_extension": ".py",
   "mimetype": "text/x-python",
   "name": "python",
   "nbconvert_exporter": "python",
   "pygments_lexer": "ipython3",
   "version": "3.11.9"
  }
 },
 "nbformat": 4,
 "nbformat_minor": 2
}
