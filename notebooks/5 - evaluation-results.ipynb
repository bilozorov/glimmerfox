{
 "cells": [
  {
   "cell_type": "code",
   "execution_count": 25,
   "metadata": {},
   "outputs": [],
   "source": [
    "import pandas as pd\n",
    "import matplotlib.pyplot as plt\n",
    "import seaborn as sns\n",
    "\n",
    "%matplotlib inline"
   ]
  },
  {
   "cell_type": "markdown",
   "metadata": {},
   "source": [
    "# Retrieval Analysis"
   ]
  },
  {
   "cell_type": "code",
   "execution_count": 7,
   "metadata": {},
   "outputs": [],
   "source": [
    "\n",
    "\n",
    "# Step 1: Read the CSV file and load specific columns\n",
    "columns_to_read = [\n",
    "    'question', 'document_id', 'hit_rate_text', 'hit_rate_vector', \n",
    "    'hit_rate_vector_combined', 'mrr_text', 'mrr_vector', 'mrr_vector_combined'\n",
    "]\n",
    "\n",
    "# Read the CSV file\n",
    "df = pd.read_csv('ground_truth_metrics_retrieval.csv', usecols=columns_to_read, sep=\";\")"
   ]
  },
  {
   "cell_type": "code",
   "execution_count": 8,
   "metadata": {},
   "outputs": [
    {
     "name": "stdout",
     "output_type": "stream",
     "text": [
      "Hit Rate Statistics:\n",
      "       hit_rate_text  hit_rate_vector  hit_rate_vector_combined\n",
      "count    4505.000000      4505.000000               4505.000000\n",
      "mean        0.392675         0.078135                  0.011099\n",
      "std         0.488400         0.268414                  0.104776\n",
      "min         0.000000         0.000000                  0.000000\n",
      "25%         0.000000         0.000000                  0.000000\n",
      "50%         0.000000         0.000000                  0.000000\n",
      "75%         1.000000         0.000000                  0.000000\n",
      "max         1.000000         1.000000                  1.000000\n",
      "\n",
      "MRR Statistics:\n",
      "          mrr_text   mrr_vector  mrr_vector_combined\n",
      "count  4505.000000  4505.000000          4505.000000\n",
      "mean      0.211015     0.033123             0.003251\n",
      "std       0.347560     0.147779             0.041351\n",
      "min       0.000000     0.000000             0.000000\n",
      "25%       0.000000     0.000000             0.000000\n",
      "50%       0.000000     0.000000             0.000000\n",
      "75%       0.250000     0.000000             0.000000\n",
      "max       1.000000     1.000000             1.000000\n"
     ]
    }
   ],
   "source": [
    "# Step 2: Calculate the averages (or other metrics) for hit_rate and mrr columns\n",
    "hit_rate_columns = ['hit_rate_text', 'hit_rate_vector', 'hit_rate_vector_combined']\n",
    "mrr_columns = ['mrr_text', 'mrr_vector', 'mrr_vector_combined']\n",
    "\n",
    "# Calculate mean, median, and standard deviation for hit rates\n",
    "hit_rate_stats = df[hit_rate_columns].describe()\n",
    "mrr_stats = df[mrr_columns].describe()\n",
    "\n",
    "# Print calculated statistics\n",
    "print(\"Hit Rate Statistics:\")\n",
    "print(hit_rate_stats)\n",
    "\n",
    "print(\"\\nMRR Statistics:\")\n",
    "print(mrr_stats)"
   ]
  },
  {
   "cell_type": "code",
   "execution_count": 9,
   "metadata": {},
   "outputs": [
    {
     "name": "stdout",
     "output_type": "stream",
     "text": [
      "\n",
      "Conclusions:\n",
      "The average hit_rate_text is 0.39. Higher values indicate better retrieval performance.\n",
      "The average hit_rate_vector is 0.08. Higher values indicate better retrieval performance.\n",
      "The average hit_rate_vector_combined is 0.01. Higher values indicate better retrieval performance.\n",
      "The average mrr_text is 0.21. Higher values indicate better mean reciprocal rank performance.\n",
      "The average mrr_vector is 0.03. Higher values indicate better mean reciprocal rank performance.\n",
      "The average mrr_vector_combined is 0.00. Higher values indicate better mean reciprocal rank performance.\n"
     ]
    }
   ],
   "source": [
    "# Step 3: Making Conclusions\n",
    "print(\"\\nConclusions:\")\n",
    "for column in hit_rate_columns:\n",
    "    avg_value = df[column].mean()\n",
    "    print(f\"The average {column} is {avg_value:.2f}. Higher values indicate better retrieval performance.\")\n",
    "\n",
    "for column in mrr_columns:\n",
    "    avg_value = df[column].mean()\n",
    "    print(f\"The average {column} is {avg_value:.2f}. Higher values indicate better mean reciprocal rank performance.\")"
   ]
  },
  {
   "cell_type": "code",
   "execution_count": 12,
   "metadata": {},
   "outputs": [
    {
     "name": "stdout",
     "output_type": "stream",
     "text": [
      "\n",
      "Correlation Matrix:\n"
     ]
    },
    {
     "data": {
      "text/html": [
       "<div>\n",
       "<style scoped>\n",
       "    .dataframe tbody tr th:only-of-type {\n",
       "        vertical-align: middle;\n",
       "    }\n",
       "\n",
       "    .dataframe tbody tr th {\n",
       "        vertical-align: top;\n",
       "    }\n",
       "\n",
       "    .dataframe thead th {\n",
       "        text-align: right;\n",
       "    }\n",
       "</style>\n",
       "<table border=\"1\" class=\"dataframe\">\n",
       "  <thead>\n",
       "    <tr style=\"text-align: right;\">\n",
       "      <th></th>\n",
       "      <th>hit_rate_text</th>\n",
       "      <th>hit_rate_vector</th>\n",
       "      <th>hit_rate_vector_combined</th>\n",
       "      <th>mrr_text</th>\n",
       "      <th>mrr_vector</th>\n",
       "      <th>mrr_vector_combined</th>\n",
       "    </tr>\n",
       "  </thead>\n",
       "  <tbody>\n",
       "    <tr>\n",
       "      <th>hit_rate_text</th>\n",
       "      <td>1.000000</td>\n",
       "      <td>0.114792</td>\n",
       "      <td>-0.020105</td>\n",
       "      <td>0.755139</td>\n",
       "      <td>0.107063</td>\n",
       "      <td>-0.016258</td>\n",
       "    </tr>\n",
       "    <tr>\n",
       "      <th>hit_rate_vector</th>\n",
       "      <td>0.114792</td>\n",
       "      <td>1.000000</td>\n",
       "      <td>0.048104</td>\n",
       "      <td>0.114239</td>\n",
       "      <td>0.769966</td>\n",
       "      <td>0.034788</td>\n",
       "    </tr>\n",
       "    <tr>\n",
       "      <th>hit_rate_vector_combined</th>\n",
       "      <td>-0.020105</td>\n",
       "      <td>0.048104</td>\n",
       "      <td>1.000000</td>\n",
       "      <td>-0.017357</td>\n",
       "      <td>0.055596</td>\n",
       "      <td>0.742157</td>\n",
       "    </tr>\n",
       "    <tr>\n",
       "      <th>mrr_text</th>\n",
       "      <td>0.755139</td>\n",
       "      <td>0.114239</td>\n",
       "      <td>-0.017357</td>\n",
       "      <td>1.000000</td>\n",
       "      <td>0.122870</td>\n",
       "      <td>-0.011977</td>\n",
       "    </tr>\n",
       "    <tr>\n",
       "      <th>mrr_vector</th>\n",
       "      <td>0.107063</td>\n",
       "      <td>0.769966</td>\n",
       "      <td>0.055596</td>\n",
       "      <td>0.122870</td>\n",
       "      <td>1.000000</td>\n",
       "      <td>0.037481</td>\n",
       "    </tr>\n",
       "    <tr>\n",
       "      <th>mrr_vector_combined</th>\n",
       "      <td>-0.016258</td>\n",
       "      <td>0.034788</td>\n",
       "      <td>0.742157</td>\n",
       "      <td>-0.011977</td>\n",
       "      <td>0.037481</td>\n",
       "      <td>1.000000</td>\n",
       "    </tr>\n",
       "  </tbody>\n",
       "</table>\n",
       "</div>"
      ],
      "text/plain": [
       "                          hit_rate_text  hit_rate_vector  \\\n",
       "hit_rate_text                  1.000000         0.114792   \n",
       "hit_rate_vector                0.114792         1.000000   \n",
       "hit_rate_vector_combined      -0.020105         0.048104   \n",
       "mrr_text                       0.755139         0.114239   \n",
       "mrr_vector                     0.107063         0.769966   \n",
       "mrr_vector_combined           -0.016258         0.034788   \n",
       "\n",
       "                          hit_rate_vector_combined  mrr_text  mrr_vector  \\\n",
       "hit_rate_text                            -0.020105  0.755139    0.107063   \n",
       "hit_rate_vector                           0.048104  0.114239    0.769966   \n",
       "hit_rate_vector_combined                  1.000000 -0.017357    0.055596   \n",
       "mrr_text                                 -0.017357  1.000000    0.122870   \n",
       "mrr_vector                                0.055596  0.122870    1.000000   \n",
       "mrr_vector_combined                       0.742157 -0.011977    0.037481   \n",
       "\n",
       "                          mrr_vector_combined  \n",
       "hit_rate_text                       -0.016258  \n",
       "hit_rate_vector                      0.034788  \n",
       "hit_rate_vector_combined             0.742157  \n",
       "mrr_text                            -0.011977  \n",
       "mrr_vector                           0.037481  \n",
       "mrr_vector_combined                  1.000000  "
      ]
     },
     "execution_count": 12,
     "metadata": {},
     "output_type": "execute_result"
    }
   ],
   "source": [
    "# Step 4: Additional Analysis\n",
    "# Correlation analysis to see how hit rates and MRRs relate to each other\n",
    "correlation_matrix = df[hit_rate_columns + mrr_columns].corr()\n",
    "print(\"\\nCorrelation Matrix:\")\n",
    "correlation_matrix"
   ]
  },
  {
   "cell_type": "markdown",
   "metadata": {},
   "source": [
    "# RAG Analysis"
   ]
  },
  {
   "cell_type": "code",
   "execution_count": 14,
   "metadata": {},
   "outputs": [],
   "source": [
    "# Step 1: Read the CSV file with specific separator and columns\n",
    "columns_to_read = [\n",
    "    'number', 'question', 'answer', 'sanitized_question', 'document_id', \n",
    "    'answer_original', 'answer_llm', 'cosine_similarity', 'vector_original', \n",
    "    'vector_llm', 'relevance_1', 'explanation_1', 'relevance_2', 'explanation_2'\n",
    "]\n",
    "\n",
    "df = pd.read_csv('df_judge_1_2.csv', sep=';', usecols=columns_to_read)"
   ]
  },
  {
   "cell_type": "code",
   "execution_count": 15,
   "metadata": {},
   "outputs": [
    {
     "data": {
      "image/png": "[encoded data removed]",
      "text/plain": [
       "<Figure size 1000x600 with 1 Axes>"
      ]
     },
     "metadata": {},
     "output_type": "display_data"
    }
   ],
   "source": [
    "# Step 2: Analyze cosine_similarity - Plot distribution and describe analysis\n",
    "plt.figure(figsize=(10, 6))\n",
    "sns.histplot(df['cosine_similarity'], bins=30, kde=True, color='blue')\n",
    "plt.title('Distribution of Cosine Similarity')\n",
    "plt.xlabel('Cosine Similarity')\n",
    "plt.ylabel('Frequency')\n",
    "plt.show()"
   ]
  },
  {
   "cell_type": "code",
   "execution_count": 26,
   "metadata": {},
   "outputs": [
    {
     "data": {
      "image/png": "[encoded data removed]",
      "text/plain": [
       "<Figure size 500x500 with 1 Axes>"
      ]
     },
     "metadata": {},
     "output_type": "display_data"
    }
   ],
   "source": [
    "sns.displot(df['cosine_similarity'], label='Cosine Similarity')\n",
    "plt.title(\"RAG LLM Performance\")\n",
    "plt.xlabel(\"A->Q->A' Cosine Similarity\")\n",
    "plt.legend()\n",
    "plt.show()"
   ]
  },
  {
   "cell_type": "code",
   "execution_count": 18,
   "metadata": {},
   "outputs": [
    {
     "name": "stdout",
     "output_type": "stream",
     "text": [
      "Descriptive Statistics for Cosine Similarity:\n"
     ]
    },
    {
     "data": {
      "text/plain": [
       "count    902.000000\n",
       "mean       0.877508\n",
       "std        0.167155\n",
       "min        0.346501\n",
       "25%        0.795372\n",
       "50%        0.991802\n",
       "75%        1.000000\n",
       "max        1.000000\n",
       "Name: cosine_similarity, dtype: float64"
      ]
     },
     "execution_count": 18,
     "metadata": {},
     "output_type": "execute_result"
    }
   ],
   "source": [
    "# Descriptive analysis for cosine_similarity\n",
    "print(\"Descriptive Statistics for Cosine Similarity:\")\n",
    "df['cosine_similarity'].describe()"
   ]
  },
  {
   "cell_type": "code",
   "execution_count": 20,
   "metadata": {},
   "outputs": [
    {
     "name": "stdout",
     "output_type": "stream",
     "text": [
      "\n",
      "Conclusion:\n",
      "The cosine similarity ranges from 0.35 to 1.00 with a mean of 0.88.\n",
      "Higher values of cosine similarity indicate that the answer is more similar to the original document. The distribution shows how closely the generated answers match the reference texts.\n"
     ]
    }
   ],
   "source": [
    "# Conclusion for Cosine Similarity Analysis\n",
    "cosine_desc = df['cosine_similarity'].describe()\n",
    "\n",
    "print(\"\\nConclusion:\")\n",
    "print(f\"The cosine similarity ranges from {cosine_desc['min']:.2f} to {cosine_desc['max']:.2f} with a mean of {cosine_desc['mean']:.2f}.\")\n",
    "print(\"Higher values of cosine similarity indicate that the answer is more similar to the original document. The distribution shows how closely the generated answers match the reference texts.\")"
   ]
  },
  {
   "cell_type": "code",
   "execution_count": null,
   "metadata": {},
   "outputs": [],
   "source": [
    "# Step 3: Analyze relevance_1 and relevance_2 - Plot distribution and describe analysis\n",
    "plt.figure(figsize=(12, 6))\n",
    "\n",
    "# Plot for relevance_1\n",
    "plt.subplot(1, 2, 1)\n",
    "sns.countplot(x='relevance_1', data=df, order=['NON_RELEVANT', 'PARTLY_RELEVANT', 'RELEVANT'], palette='Set2')\n",
    "plt.title('Distribution of Relevance 1')\n",
    "plt.xlabel('Relevance 1')\n",
    "plt.ylabel('Frequency')\n",
    "\n",
    "# Plot for relevance_2\n",
    "plt.subplot(1, 2, 2)\n",
    "sns.countplot(x='relevance_2', data=df, order=['NON_RELEVANT', 'PARTLY_RELEVANT', 'RELEVANT'], palette='Set3')\n",
    "plt.title('Distribution of Relevance 2')\n",
    "plt.xlabel('Relevance 2')\n",
    "plt.ylabel('Frequency')\n",
    "\n",
    "plt.tight_layout()\n",
    "plt.show()\n"
   ]
  },
  {
   "cell_type": "code",
   "execution_count": 23,
   "metadata": {},
   "outputs": [
    {
     "name": "stderr",
     "output_type": "stream",
     "text": [
      "/var/folders/bw/xn7fzq7s19345glv1sllmzdc0000gn/T/ipykernel_36190/2395708113.py:6: FutureWarning: \n",
      "\n",
      "Passing `palette` without assigning `hue` is deprecated and will be removed in v0.14.0. Assign the `x` variable to `hue` and set `legend=False` for the same effect.\n",
      "\n",
      "  sns.countplot(x='relevance_1', data=df, order=['NON_RELEVANT', 'PARTLY_RELEVANT', 'RELEVANT'], palette='Set2')\n",
      "/var/folders/bw/xn7fzq7s19345glv1sllmzdc0000gn/T/ipykernel_36190/2395708113.py:13: FutureWarning: \n",
      "\n",
      "Passing `palette` without assigning `hue` is deprecated and will be removed in v0.14.0. Assign the `x` variable to `hue` and set `legend=False` for the same effect.\n",
      "\n",
      "  sns.countplot(x='relevance_2', data=df, order=['NON_RELEVANT', 'PARTLY_RELEVANT', 'RELEVANT'], palette='Set3')\n"
     ]
    },
    {
     "data": {
      "image/png": "[encoded data removed]",
      "text/plain": [
       "<Figure size 1200x600 with 2 Axes>"
      ]
     },
     "metadata": {},
     "output_type": "display_data"
    }
   ],
   "source": [
    "# Step 3: Analyze relevance_1 and relevance_2 - Plot distribution and describe analysis\n",
    "plt.figure(figsize=(12, 6))\n",
    "\n",
    "# Plot for relevance_1\n",
    "plt.subplot(1, 2, 1)\n",
    "sns.countplot(x='relevance_1', data=df, order=['NON_RELEVANT', 'PARTLY_RELEVANT', 'RELEVANT'], palette='Set2')\n",
    "plt.title('Distribution of Relevance 1')\n",
    "plt.xlabel('Relevance 1')\n",
    "plt.ylabel('Frequency')\n",
    "\n",
    "# Plot for relevance_2\n",
    "plt.subplot(1, 2, 2)\n",
    "sns.countplot(x='relevance_2', data=df, order=['NON_RELEVANT', 'PARTLY_RELEVANT', 'RELEVANT'], palette='Set3')\n",
    "plt.title('Distribution of Relevance 2')\n",
    "plt.xlabel('Relevance 2')\n",
    "plt.ylabel('Frequency')\n",
    "\n",
    "plt.tight_layout()\n",
    "plt.show()\n"
   ]
  },
  {
   "cell_type": "code",
   "execution_count": 27,
   "metadata": {},
   "outputs": [
    {
     "name": "stdout",
     "output_type": "stream",
     "text": [
      "\n",
      "Frequency Distribution for Relevance 1:\n",
      "relevance_1\n",
      "RELEVANT           591\n",
      "NON_RELEVANT       163\n",
      "PARTLY_RELEVANT    148\n",
      "Name: count, dtype: int64\n",
      "\n",
      "Frequency Distribution for Relevance 2:\n",
      "relevance_2\n",
      "RELEVANT           587\n",
      "NON_RELEVANT       160\n",
      "PARTLY_RELEVANT    155\n",
      "Name: count, dtype: int64\n"
     ]
    }
   ],
   "source": [
    "# Descriptive analysis for relevance_1 and relevance_2\n",
    "relevance_1_counts = df['relevance_1'].value_counts()\n",
    "relevance_2_counts = df['relevance_2'].value_counts()\n",
    "\n",
    "print(\"\\nFrequency Distribution for Relevance 1:\")\n",
    "print(relevance_1_counts)\n",
    "\n",
    "print(\"\\nFrequency Distribution for Relevance 2:\")\n",
    "print(relevance_2_counts)"
   ]
  },
  {
   "cell_type": "code",
   "execution_count": null,
   "metadata": {},
   "outputs": [],
   "source": []
  }
 ],
 "metadata": {
  "kernelspec": {
   "display_name": "glimmerfox",
   "language": "python",
   "name": "python3"
  },
  "language_info": {
   "codemirror_mode": {
    "name": "ipython",
    "version": 3
   },
   "file_extension": ".py",
   "mimetype": "text/x-python",
   "name": "python",
   "nbconvert_exporter": "python",
   "pygments_lexer": "ipython3",
   "version": "3.11.9"
  }
 },
 "nbformat": 4,
 "nbformat_minor": 2
}
